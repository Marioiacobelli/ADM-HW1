{
 "cells": [
  {
   "cell_type": "markdown",
   "id": "e52dabb4",
   "metadata": {},
   "source": [
    "# Algorithmic Methods of Data Mining - Homework 1\n",
    "### Iacobelli Mario (1841427)"
   ]
  },
  {
   "cell_type": "markdown",
   "id": "3e0897a6",
   "metadata": {},
   "source": [
    "   ## Problem 1 \n",
    "--------------------------------------------------------------------------------------------------------------------------------"
   ]
  },
  {
   "cell_type": "markdown",
   "id": "90e81991",
   "metadata": {},
   "source": [
    "### 00 - Introduction"
   ]
  },
  {
   "cell_type": "markdown",
   "id": "0449e6a8",
   "metadata": {},
   "source": [
    "#### Say \"Hello, World!\" With Python\n"
   ]
  },
  {
   "cell_type": "code",
   "execution_count": null,
   "id": "f19c1cd3",
   "metadata": {},
   "outputs": [],
   "source": [
    "if __name__ == '__main__':\n",
    "    print(\"Hello, World!\")\n"
   ]
  },
  {
   "cell_type": "markdown",
   "id": "6caace79",
   "metadata": {},
   "source": [
    "#### Python If-Else"
   ]
  },
  {
   "cell_type": "code",
   "execution_count": null,
   "id": "e37c344c",
   "metadata": {},
   "outputs": [],
   "source": [
    "import math\n",
    "import os\n",
    "import random\n",
    "import re\n",
    "import sys\n",
    "\n",
    "\n",
    "if __name__ == '__main__':\n",
    "    n = int(input().strip())\n",
    "    if n % 2 != 0:\n",
    "        print(\"Weird\")\n",
    "    elif n % 2 == 0: \n",
    "        if n>=2 and n<=5:\n",
    "            print(\"Not Weird\")\n",
    "        elif n>=6 and n<=20:\n",
    "            print (\"Weird\")\n",
    "        elif n > 20:\n",
    "            print (\"Not Weird\")\n",
    "    \n"
   ]
  },
  {
   "cell_type": "markdown",
   "id": "1569e418",
   "metadata": {},
   "source": [
    "#### Arithmetic Operators"
   ]
  },
  {
   "cell_type": "code",
   "execution_count": null,
   "id": "8e489e90",
   "metadata": {},
   "outputs": [],
   "source": [
    "if __name__ == '__main__':\n",
    "    a = int(input())\n",
    "    b = int(input())\n",
    "    \n",
    "    print(a + b)\n",
    "    print(a - b)\n",
    "    print(a * b)\n"
   ]
  },
  {
   "cell_type": "markdown",
   "id": "6ce30ad0",
   "metadata": {},
   "source": [
    "#### Python: Division"
   ]
  },
  {
   "cell_type": "code",
   "execution_count": null,
   "id": "edddd8cd",
   "metadata": {},
   "outputs": [],
   "source": [
    "if __name__ == '__main__':\n",
    "    a = int(input())\n",
    "    b = int(input())\n",
    "    \n",
    "    print(a//b)\n",
    "    print(a/b)\n"
   ]
  },
  {
   "cell_type": "markdown",
   "id": "e1384299",
   "metadata": {},
   "source": [
    "#### Loops"
   ]
  },
  {
   "cell_type": "code",
   "execution_count": null,
   "id": "ca4bbd00",
   "metadata": {},
   "outputs": [],
   "source": [
    "if __name__ == '__main__':\n",
    "    n = int(input())\n",
    "    \n",
    "    for i in range(n):\n",
    "        print (i*i)\n",
    "        "
   ]
  },
  {
   "cell_type": "markdown",
   "id": "9e1c1211",
   "metadata": {},
   "source": [
    "#### Write a funtion"
   ]
  },
  {
   "cell_type": "code",
   "execution_count": null,
   "id": "a020346b",
   "metadata": {},
   "outputs": [],
   "source": [
    "def is_leap(year):\n",
    "    leap = False\n",
    "    \n",
    "    if year % 4 == 0:\n",
    "        if year % 100 != 0:\n",
    "            leap = True\n",
    "        elif year % 100 == 0 and year % 400 == 0:\n",
    "            leap = True\n",
    "            \n",
    "    return leap\n",
    "\n",
    "year = int(input())\n",
    "print(is_leap(year))"
   ]
  },
  {
   "cell_type": "markdown",
   "id": "9fb178c2",
   "metadata": {},
   "source": [
    "#### Print Function"
   ]
  },
  {
   "cell_type": "code",
   "execution_count": null,
   "id": "70fca876",
   "metadata": {},
   "outputs": [],
   "source": [
    "if __name__ == '__main__':\n",
    "    n = int(input())\n",
    "    \n",
    "    for i in range(1, n+1):\n",
    "        print(i, end=\"\")\n"
   ]
  },
  {
   "cell_type": "markdown",
   "id": "983b1f9e",
   "metadata": {},
   "source": [
    "\n",
    "### 01 - Basic Data Types\n"
   ]
  },
  {
   "cell_type": "markdown",
   "id": "70179bcb",
   "metadata": {},
   "source": [
    "#### List Comprehensions"
   ]
  },
  {
   "cell_type": "code",
   "execution_count": null,
   "id": "8bf8ff3f",
   "metadata": {},
   "outputs": [],
   "source": [
    "if __name__ == '__main__':\n",
    "    x = int(input())\n",
    "    y = int(input())\n",
    "    z = int(input())\n",
    "    n = int(input())\n",
    "    \n",
    "    coord = [[i,j,k] for i in range (0,x+1) for j in range (0,y+1) for k in range(0, z+1) if i + j + k != n]\n",
    "            \n",
    "    print(coord)\n",
    "            \n"
   ]
  },
  {
   "cell_type": "markdown",
   "id": "7d506748",
   "metadata": {},
   "source": [
    "#### Find the Runner-Up Score!"
   ]
  },
  {
   "cell_type": "code",
   "execution_count": null,
   "id": "c6d278bd",
   "metadata": {},
   "outputs": [],
   "source": [
    "if __name__ == '__main__':\n",
    "    n = int(input())\n",
    "    arr = map(int, input().split())\n",
    "    \n",
    "    # I initialize two variables with the minimun value that can occur in the array\n",
    "    max_score = -100\n",
    "    runner_up = -100\n",
    "    \n",
    "    for i in arr:\n",
    "        if i > max_score:\n",
    "            aux = max_score\n",
    "            max_score = i\n",
    "            runner_up = aux\n",
    "        elif i < max_score and i > runner_up:\n",
    "            runner_up = i\n",
    "    print(runner_up)\n",
    "    "
   ]
  },
  {
   "cell_type": "markdown",
   "id": "865973e2",
   "metadata": {},
   "source": [
    "#### Nested Lists"
   ]
  },
  {
   "cell_type": "code",
   "execution_count": null,
   "id": "b53c5107",
   "metadata": {},
   "outputs": [],
   "source": [
    "if __name__ == '__main__':\n",
    "    \n",
    "    N = int(input())\n",
    "    l = list()\n",
    "    \n",
    "    for _ in range(N):\n",
    "        name = input()\n",
    "        grade = float(input())\n",
    "        l.append([name, grade])\n",
    "    \n",
    "    scores = set()\n",
    "    for item in l:\n",
    "        scores.add(item[1])\n",
    "        \n",
    "    scores_list = list(scores)\n",
    "    scores_list.sort()\n",
    "    second_smallest_score = scores_list[1] #I found the second smallest score which is the second element of the list because the list contains unique elements and it's sorted\n",
    "    \n",
    "    names = list()\n",
    "    for item in l:\n",
    "        if item[1] == second_smallest_score:\n",
    "            names.append(item[0])\n",
    "        \n",
    "    names.sort()\n",
    "    for name in names:\n",
    "        print(name)\n",
    "        "
   ]
  },
  {
   "cell_type": "markdown",
   "id": "11582433",
   "metadata": {},
   "source": [
    "#### Finding the percentage"
   ]
  },
  {
   "cell_type": "code",
   "execution_count": null,
   "id": "fa69e91f",
   "metadata": {},
   "outputs": [],
   "source": [
    "if __name__ == '__main__':\n",
    "    n = int(input())\n",
    "    student_marks = {}\n",
    "    for _ in range(n):\n",
    "        name, *line = input().split()\n",
    "        scores = list(map(float, line))\n",
    "        student_marks[name] = scores\n",
    "    query_name = input()\n",
    "    \n",
    "    marks_list = student_marks[query_name]\n",
    "    sum = 0\n",
    "    for mark in marks_list:\n",
    "        sum += float(mark)\n",
    "    avg = sum/len(marks_list)\n",
    "    print(\"%.2f\" % avg)\n"
   ]
  },
  {
   "cell_type": "markdown",
   "id": "eacea92f",
   "metadata": {},
   "source": [
    "#### Lists"
   ]
  },
  {
   "cell_type": "code",
   "execution_count": null,
   "id": "77639e8e",
   "metadata": {},
   "outputs": [],
   "source": [
    "if __name__ == '__main__':\n",
    "    N = int(input())\n",
    "    \n",
    "    list = []\n",
    "    \n",
    "    for line in range(N):\n",
    "        cmd = input().split()\n",
    "        \n",
    "        if cmd[0] == \"insert\":\n",
    "            list.insert(int(cmd[1]),int(cmd[2]))\n",
    "            \n",
    "        elif cmd[0] == \"print\":\n",
    "            print(list)\n",
    "            \n",
    "        elif cmd[0] == \"remove\":\n",
    "            list.remove(int(cmd[1]))\n",
    "            \n",
    "        elif cmd[0] == \"append\":\n",
    "            list.append(int(cmd[1]))\n",
    "        \n",
    "        elif cmd[0] == \"sort\":\n",
    "            list.sort()\n",
    "        \n",
    "        elif cmd[0] == \"pop\":\n",
    "            list.pop()\n",
    "        \n",
    "        elif cmd[0] == \"reverse\":\n",
    "            list.reverse()\n",
    "    \n",
    "    "
   ]
  },
  {
   "cell_type": "markdown",
   "id": "08ee29a3",
   "metadata": {},
   "source": [
    "#### Tuples"
   ]
  },
  {
   "cell_type": "code",
   "execution_count": null,
   "id": "e73f82be",
   "metadata": {},
   "outputs": [],
   "source": [
    "if __name__ == '__main__':\n",
    "    n = int(input())\n",
    "    integer_list = map(int, input().split())\n",
    "    \n",
    "    t = tuple(integer_list)\n",
    "    print(hash(t))\n"
   ]
  },
  {
   "cell_type": "markdown",
   "id": "49249a75",
   "metadata": {},
   "source": [
    "\n",
    "### 02 - Strings"
   ]
  },
  {
   "cell_type": "markdown",
   "id": "18021881",
   "metadata": {},
   "source": [
    "#### sWAP cASE"
   ]
  },
  {
   "cell_type": "code",
   "execution_count": null,
   "id": "f59c3616",
   "metadata": {},
   "outputs": [],
   "source": [
    "def swap_case(s):\n",
    "    string = \"\"\n",
    "    for character in s:\n",
    "        if character.isupper():\n",
    "            string += character.lower()\n",
    "        elif character.islower():\n",
    "            string += character.upper()\n",
    "        else: # the character is a non alphabetic letter\n",
    "            string += character\n",
    "            \n",
    "    return string\n",
    "\n",
    "if __name__ == '__main__':\n",
    "    s = input()\n",
    "    result = swap_case(s)\n",
    "    print(result)"
   ]
  },
  {
   "cell_type": "markdown",
   "id": "2d520707",
   "metadata": {},
   "source": [
    "#### String Split and Join"
   ]
  },
  {
   "cell_type": "code",
   "execution_count": null,
   "id": "98397df2",
   "metadata": {},
   "outputs": [],
   "source": [
    "def split_and_join(line):\n",
    "    # write your code here\n",
    "    words = line.split()\n",
    "    words = \"-\".join(words)\n",
    "    return words\n",
    "\n",
    "if __name__ == '__main__':\n",
    "    line = input()\n",
    "    result = split_and_join(line)\n",
    "    print(result)\n"
   ]
  },
  {
   "cell_type": "markdown",
   "id": "32a09f00",
   "metadata": {},
   "source": [
    "#### What's Your Name?"
   ]
  },
  {
   "cell_type": "code",
   "execution_count": null,
   "id": "b8aa7eed",
   "metadata": {},
   "outputs": [],
   "source": [
    "def print_full_name(first, last):\n",
    "    \n",
    "    firstname = first\n",
    "    lastname = last \n",
    "    print(\"Hello\", firstname, lastname + \"! You just delved into python.\")\n",
    "\n",
    "if __name__ == '__main__':\n",
    "    first_name = input()\n",
    "    last_name = input()\n",
    "    print_full_name(first_name, last_name)"
   ]
  },
  {
   "cell_type": "markdown",
   "id": "c494246e",
   "metadata": {},
   "source": [
    "#### Mutations\n"
   ]
  },
  {
   "cell_type": "code",
   "execution_count": null,
   "id": "1c6cf1ad",
   "metadata": {},
   "outputs": [],
   "source": [
    "def mutate_string(string, position, character):\n",
    "    \n",
    "    new_string = string[0:position] + character + string[position+1:]\n",
    "    return new_string\n",
    "\n",
    "if __name__ == '__main__':\n",
    "    s = input()\n",
    "    i, c = input().split()\n",
    "    s_new = mutate_string(s, int(i), c)\n",
    "    print(s_new)"
   ]
  },
  {
   "cell_type": "markdown",
   "id": "26b92ce4",
   "metadata": {},
   "source": [
    "#### Find a string"
   ]
  },
  {
   "cell_type": "code",
   "execution_count": null,
   "id": "0e4d503a",
   "metadata": {},
   "outputs": [],
   "source": [
    "def count_substring(string, sub_string):\n",
    "    times = 0\n",
    "    for i in range(len(string)):\n",
    "        if string[i:i+len(sub_string):] == sub_string:\n",
    "            times += 1\n",
    "    return times  \n",
    "\n",
    "if __name__ == '__main__':\n",
    "    string = input().strip()\n",
    "    sub_string = input().strip()\n",
    "    \n",
    "    count = count_substring(string, sub_string)\n",
    "    print(count)"
   ]
  },
  {
   "cell_type": "markdown",
   "id": "ce388a45",
   "metadata": {},
   "source": [
    "#### String Validators"
   ]
  },
  {
   "cell_type": "code",
   "execution_count": null,
   "id": "9efb76ed",
   "metadata": {},
   "outputs": [],
   "source": [
    "if __name__ == '__main__':\n",
    "    s = input()\n",
    "    \n",
    "    flag = False\n",
    "    for character in s:\n",
    "        if character.isalnum():\n",
    "            flag = True\n",
    "    print(flag)\n",
    "    \n",
    "    flag = False\n",
    "    for character in s:\n",
    "        if character.isalpha():\n",
    "            flag = True\n",
    "    print(flag)\n",
    "    \n",
    "    flag = False\n",
    "    for character in s:\n",
    "        if character.isdigit():\n",
    "            flag = True\n",
    "    print(flag)\n",
    "    \n",
    "    flag = False\n",
    "    for character in s:\n",
    "        if character.islower():\n",
    "            flag = True\n",
    "    print(flag)\n",
    "    \n",
    "    flag = False\n",
    "    for character in s:\n",
    "        if character.isupper():\n",
    "            flag = True\n",
    "    print(flag)\n",
    "    \n"
   ]
  },
  {
   "cell_type": "markdown",
   "id": "98977325",
   "metadata": {},
   "source": [
    "#### Text Alignment"
   ]
  },
  {
   "cell_type": "code",
   "execution_count": null,
   "id": "6b86924d",
   "metadata": {},
   "outputs": [],
   "source": [
    "#Replace all ______ with rjust, ljust or center. \n",
    "\n",
    "thickness = int(input()) #This must be an odd number\n",
    "c = 'H'\n",
    "\n",
    "#Top Cone\n",
    "for i in range(thickness):\n",
    "    print((c*i).rjust(thickness-1)+c+(c*i).ljust(thickness-1))\n",
    "\n",
    "#Top Pillars\n",
    "for i in range(thickness+1):\n",
    "    print((c*thickness).center(thickness*2)+(c*thickness).center(thickness*6))\n",
    "\n",
    "#Middle Belt\n",
    "for i in range((thickness+1)//2):\n",
    "    print((c*thickness*5).center(thickness*6))    \n",
    "\n",
    "#Bottom Pillars\n",
    "for i in range(thickness+1):\n",
    "    print((c*thickness).center(thickness*2)+(c*thickness).center(thickness*6))    \n",
    "\n",
    "#Bottom Cone\n",
    "for i in range(thickness):\n",
    "    print(((c*(thickness-i-1)).rjust(thickness)+c+(c*(thickness-i-1)).ljust(thickness)).rjust(thickness*6))"
   ]
  },
  {
   "cell_type": "markdown",
   "id": "b1d74f23",
   "metadata": {},
   "source": [
    "#### Text Wrap"
   ]
  },
  {
   "cell_type": "code",
   "execution_count": null,
   "id": "0fff2706",
   "metadata": {},
   "outputs": [],
   "source": [
    "def wrap(string, max_width):\n",
    "    res = \"\"\n",
    "    for i in range (0,len(string),max_width):\n",
    "        res += string[i:i+max_width] + \"\\n\"\n",
    "    return res\n",
    "\n",
    "if __name__ == '__main__':\n",
    "    string, max_width = input(), int(input())\n",
    "    result = wrap(string, max_width)\n",
    "    print(result)\n",
    "\n"
   ]
  },
  {
   "cell_type": "markdown",
   "id": "471a9c0b",
   "metadata": {},
   "source": [
    "#### Designer Door Mat"
   ]
  },
  {
   "cell_type": "code",
   "execution_count": null,
   "id": "5072d95f",
   "metadata": {},
   "outputs": [],
   "source": [
    "numbers = input().split()\n",
    "N = int(numbers[0])\n",
    "M = int(numbers[1])\n",
    "\n",
    "c1 = \".|.\"\n",
    "c2 = \"WELCOME\"\n",
    "\n",
    "for i in range(N//2):\n",
    "    print((c1*i).rjust(M//2 - 1, \"-\")+c1+(c1*i).ljust(M//2 - 1, \"-\"))\n",
    "\n",
    "print(c2.center(M, \"-\"))\n",
    "\n",
    "for i in range(N//2 -1, -1, -1):\n",
    "    print((c1*i).rjust(M//2 - 1, \"-\")+c1+(c1*i).ljust(M//2 - 1, \"-\"))\n",
    "\n",
    "\n",
    "    "
   ]
  },
  {
   "cell_type": "markdown",
   "id": "8c962f54",
   "metadata": {},
   "source": [
    "#### String Formatting"
   ]
  },
  {
   "cell_type": "code",
   "execution_count": null,
   "id": "d853654a",
   "metadata": {},
   "outputs": [],
   "source": [
    "def print_formatted(number):\n",
    "    \n",
    "    # calculate the number of digits needed to represent the maximum value number in binary form without the prefix (i found this solution to calculatd the width on the internet)\n",
    "    width = len(bin(number)[2:]) \n",
    "    \n",
    "    for i in range(1,number+1):\n",
    "        decimal = str(i)\n",
    "        octal = oct(i)[2:] # to remove the prefix\n",
    "        hexadecimal = hex(i)[2:].upper() \n",
    "        binary = bin(i)[2:]\n",
    "    \n",
    "        print(decimal.rjust(width, \" \"), octal.rjust(width, \" \"), hexadecimal.rjust(width, \" \"), binary.rjust(width, \" \"))\n",
    "        \n",
    "\n",
    "if __name__ == '__main__':\n",
    "    n = int(input())\n",
    "    print_formatted(n)"
   ]
  },
  {
   "cell_type": "markdown",
   "id": "880fd002",
   "metadata": {},
   "source": [
    "#### Alphabet Rangoli"
   ]
  },
  {
   "cell_type": "code",
   "execution_count": null,
   "id": "acfc9a7c",
   "metadata": {},
   "outputs": [],
   "source": [
    "def print_rangoli(size):\n",
    "    \n",
    "    alphabet = \"abcdefghijklmnopqrstuvwxyz\"\n",
    "    alphabet = \" \".join(alphabet) # string of letters divided by blank space\n",
    "    letters = alphabet.split() # list of letters of the alphabet\n",
    "    \n",
    "    \n",
    "    # if n == 5, in the central string we have \"e-d-c-b-a-b-c-d-e\"\n",
    "    # we can divide the sting in two parts: in the first one there are letters from \"a\" (index 0) to \"e\" (index n-1) in reversed order; in the second half there are letters from \"b\" (index 1) to \"e\" (index n-1)\n",
    "    \n",
    "    central_string = letters[n-1::-1] + letters[1:n]\n",
    "    central_string = \"-\".join(central_string)\n",
    "    width = len(central_string)\n",
    "    \n",
    "    strings = list()\n",
    "    for i in range(1,n):\n",
    "        ith_string = letters[n-1:n-i:-1]+letters[n-i:n]\n",
    "        ith_string = \"-\".join(ith_string)\n",
    "        strings.append(ith_string)\n",
    "        print(ith_string.center(width, \"-\"))\n",
    "        \n",
    "    print(central_string)\n",
    "    \n",
    "    strings.reverse()\n",
    "    for string in strings:\n",
    "        print(string.center(width, \"-\"))\n",
    "      \n",
    "\n",
    "if __name__ == '__main__':\n",
    "    n = int(input())\n",
    "    print_rangoli(n)"
   ]
  },
  {
   "cell_type": "markdown",
   "id": "f8b584ce",
   "metadata": {},
   "source": [
    "#### Capitalize!"
   ]
  },
  {
   "cell_type": "code",
   "execution_count": null,
   "id": "f615f2ad",
   "metadata": {},
   "outputs": [],
   "source": [
    "import math\n",
    "import os\n",
    "import random\n",
    "import re\n",
    "import sys\n",
    "\n",
    "def solve(s):\n",
    "    string = \"\"\n",
    "    words = s.split(\" \")\n",
    "    \n",
    "    for word in words:\n",
    "        string += word.capitalize() + \" \"\n",
    "    return string \n",
    "\n",
    "if __name__ == '__main__':\n",
    "    fptr = open(os.environ['OUTPUT_PATH'], 'w')\n",
    "\n",
    "    s = input()\n",
    "\n",
    "    result = solve(s)\n",
    "\n",
    "    fptr.write(result + '\\n')\n",
    "    fptr.close()\n"
   ]
  },
  {
   "cell_type": "markdown",
   "id": "819ebd2f",
   "metadata": {},
   "source": [
    "#### Minion Game"
   ]
  },
  {
   "cell_type": "code",
   "execution_count": null,
   "id": "eb03a315",
   "metadata": {},
   "outputs": [],
   "source": [
    "def minion_game(string):\n",
    "    #This is my solution to the problem, which only works for 5 tests, specifically for tests where the input has small dimensions;\n",
    "    #for the others, it takes too much time and generates a 'runtime error'.\n",
    "    \n",
    "    \"\"\"\n",
    "    kevin = 0\n",
    "    stuart = 0\n",
    "    length = len(string)\n",
    "    \n",
    "    substrings = [] # create a list with all the possible substrings of the given string\n",
    "    for i in range(length):\n",
    "        for j in range(i + 1, length + 1):\n",
    "            if string[i:j] not in substrings:\n",
    "                substrings.append(string[i:j])\n",
    "    #print(substrings)\n",
    "    \n",
    "    for substring in substrings:\n",
    "        if substring[0] in \"AEIOU\":\n",
    "            kevin += string.count(substring)\n",
    "        else:\n",
    "            stuart += string.count(substring)\n",
    "\n",
    "    if kevin > stuart:\n",
    "        print(\"Kevin\", str(kevin))\n",
    "        \n",
    "    elif stuart > kevin:\n",
    "        print(\"Stuart\", str(stuart))\n",
    "        \n",
    "    else:\n",
    "        print(\"Draw\")\n",
    "    \n",
    "    \"\"\"\n",
    "    # To solve the problem and pass all the tests, I consulted the discussion section, where I learned the property used below.\n",
    "    \n",
    "    kevin = 0\n",
    "    stuart = 0\n",
    "    length = len(string)\n",
    "    \n",
    "    for i in range(length):\n",
    "        if string[i] in \"AEIOU\":\n",
    "            # (length - i) is the number of substrings from position i \n",
    "            kevin += length - i \n",
    "        else:\n",
    "            stuart += length - i\n",
    "            \n",
    "    if kevin > stuart:\n",
    "        print(\"Kevin\", str(kevin))\n",
    "    elif stuart > kevin:\n",
    "        print(\"Stuart\", str(stuart))\n",
    "    else:\n",
    "        print(\"Draw\")\n",
    "        \n",
    "\n",
    "if __name__ == '__main__':\n",
    "    s = input()\n",
    "    minion_game(s)"
   ]
  },
  {
   "cell_type": "markdown",
   "id": "eab03739",
   "metadata": {},
   "source": [
    "#### Merge the Tools!"
   ]
  },
  {
   "cell_type": "code",
   "execution_count": null,
   "id": "9ec60afd",
   "metadata": {},
   "outputs": [],
   "source": [
    "def merge_the_tools(string, k):\n",
    "    \n",
    "    output_list = list()\n",
    "    \n",
    "    i = 0\n",
    "    while i < len(string):\n",
    "        t = string[i:i+k]\n",
    "        u = \"\"\n",
    "        for char in t:\n",
    "            if char not in u:\n",
    "                u += char\n",
    "        output_list.append(u)\n",
    "        i += k\n",
    "    \n",
    "    print(*output_list, sep=\"\\n\")\n",
    "\n",
    "if __name__ == '__main__':\n",
    "    string, k = input(), int(input())\n",
    "    merge_the_tools(string, k)"
   ]
  },
  {
   "cell_type": "markdown",
   "id": "48bf3f36",
   "metadata": {},
   "source": [
    "\n",
    "### 03 - Sets"
   ]
  },
  {
   "cell_type": "markdown",
   "id": "05ad1f86",
   "metadata": {},
   "source": [
    "#### Introduction to Sets"
   ]
  },
  {
   "cell_type": "code",
   "execution_count": null,
   "id": "50331b2e",
   "metadata": {},
   "outputs": [],
   "source": [
    "def average(array):\n",
    "    \n",
    "    heights_set = set(array)\n",
    "    set_length = len(heights_set)\n",
    "    set_sum = sum(heights_set)\n",
    "    avg = set_sum / set_length\n",
    "    return (\"%.3f\" % avg)\n",
    "    \n",
    "\n",
    "if __name__ == '__main__':\n",
    "    n = int(input())\n",
    "    arr = list(map(int, input().split()))\n",
    "    result = average(arr)\n",
    "    print(result)"
   ]
  },
  {
   "cell_type": "markdown",
   "id": "2cab9204",
   "metadata": {},
   "source": [
    "#### No Idea!"
   ]
  },
  {
   "cell_type": "code",
   "execution_count": null,
   "id": "b96b4cd4",
   "metadata": {},
   "outputs": [],
   "source": [
    "lenghts = input().split()\n",
    "array_len = int(lenghts[0])\n",
    "like_dislike_len = int(lenghts[1])\n",
    "\n",
    "array = input().split()\n",
    "like = set(input().split())\n",
    "dislike = set(input().split())\n",
    "\n",
    "happiness = 0\n",
    "\n",
    "for elem in array:\n",
    "    if elem in like:\n",
    "        happiness += 1\n",
    "    elif elem in dislike:\n",
    "        happiness -= 1\n",
    "    \n",
    "print(happiness)\n",
    "\n"
   ]
  },
  {
   "cell_type": "markdown",
   "id": "5c3974ae",
   "metadata": {},
   "source": [
    "#### Symmetric Difference"
   ]
  },
  {
   "cell_type": "code",
   "execution_count": null,
   "id": "4ec07f5b",
   "metadata": {},
   "outputs": [],
   "source": [
    "M = int(input())\n",
    "set1 = set(map(int, input().split()))\n",
    "N = int(input())\n",
    "set2 = set(map(int, input().split()))\n",
    "\n",
    "intersection = set1.intersection(set2)\n",
    "set1 = set1.difference(intersection)\n",
    "set2 = set2.difference(intersection)\n",
    "\n",
    "res_set = set1.union(set2)\n",
    "res_list = list(res_set)\n",
    "res_list.sort()\n",
    "\n",
    "for elem in res_list:\n",
    "    print(elem)\n"
   ]
  },
  {
   "cell_type": "markdown",
   "id": "f14b491f",
   "metadata": {},
   "source": [
    "#### Set .add()"
   ]
  },
  {
   "cell_type": "code",
   "execution_count": null,
   "id": "c21f3fbe",
   "metadata": {},
   "outputs": [],
   "source": [
    "n = int(input())\n",
    "\n",
    "country_stamps = set()\n",
    "for _ in range (n):\n",
    "    country_stamps.add(input())\n",
    "\n",
    "counts = len(country_stamps)\n",
    "print(counts)\n"
   ]
  },
  {
   "cell_type": "markdown",
   "id": "d3d8f4e1",
   "metadata": {},
   "source": [
    "#### Set.discard(), .remove() & .pop()"
   ]
  },
  {
   "cell_type": "code",
   "execution_count": null,
   "id": "ff95fea3",
   "metadata": {},
   "outputs": [],
   "source": [
    "n = int(input())\n",
    "s = set(map(int, input().split()))\n",
    "\n",
    "N = int(input())\n",
    "    \n",
    "for line in range(N):\n",
    "    \n",
    "    command = input().split()\n",
    "    if command[0] == \"pop\":\n",
    "        s.pop()\n",
    "    elif command[0] == \"remove\":\n",
    "        number = int(command[1])\n",
    "        if number in s:\n",
    "            s.remove(number)\n",
    "    elif command[0] == \"discard\":\n",
    "        s.discard(int(command[1]))\n",
    "           \n",
    "res = sum(s)\n",
    "print(res)\n",
    "        "
   ]
  },
  {
   "cell_type": "markdown",
   "id": "23d7f995",
   "metadata": {},
   "source": [
    "#### Set.union() Operation"
   ]
  },
  {
   "cell_type": "code",
   "execution_count": null,
   "id": "7e8364a6",
   "metadata": {},
   "outputs": [],
   "source": [
    "n = int(input())\n",
    "english_set = set(input().split())\n",
    "b = int(input())\n",
    "french_set = set(input().split())\n",
    "\n",
    "union_set = english_set.union(french_set)\n",
    "print(len(union_set))\n"
   ]
  },
  {
   "cell_type": "markdown",
   "id": "2289621d",
   "metadata": {},
   "source": [
    "#### Set .intersection() Operation"
   ]
  },
  {
   "cell_type": "code",
   "execution_count": null,
   "id": "d11691dc",
   "metadata": {},
   "outputs": [],
   "source": [
    "n = int(input())\n",
    "english_set = set(input().split())\n",
    "b = int(input())\n",
    "french_set = set(input().split())\n",
    "\n",
    "intersection_set = english_set.intersection(french_set)\n",
    "print(len(intersection_set))\n"
   ]
  },
  {
   "cell_type": "markdown",
   "id": "b359fc6d",
   "metadata": {},
   "source": [
    "#### Set.difference() Operation"
   ]
  },
  {
   "cell_type": "code",
   "execution_count": null,
   "id": "ea702c3b",
   "metadata": {},
   "outputs": [],
   "source": [
    "n = int(input())\n",
    "english_set = set(input().split())\n",
    "b = int(input())\n",
    "french_set = set(input().split())\n",
    "\n",
    "res_set = english_set.difference(french_set)\n",
    "print(len(res_set))\n"
   ]
  },
  {
   "cell_type": "markdown",
   "id": "252403b1",
   "metadata": {},
   "source": [
    "#### Set.symmetric_difference() Operation"
   ]
  },
  {
   "cell_type": "code",
   "execution_count": null,
   "id": "a5c404b6",
   "metadata": {},
   "outputs": [],
   "source": [
    "n = int(input())\n",
    "english_set = set(input().split())\n",
    "b = int(input())\n",
    "french_set = set(input().split())\n",
    "\n",
    "res_set = english_set.symmetric_difference(french_set)\n",
    "print(len(res_set))\n"
   ]
  },
  {
   "cell_type": "markdown",
   "id": "5d27f0d5",
   "metadata": {},
   "source": [
    "#### Set Mutations"
   ]
  },
  {
   "cell_type": "code",
   "execution_count": null,
   "id": "7e4d0126",
   "metadata": {},
   "outputs": [],
   "source": [
    "A = int(input())\n",
    "set_A = set(map(int, input().split()))\n",
    "N = int(input())\n",
    "\n",
    "for _ in range(N):\n",
    "    operation = input().split()\n",
    "    command = operation[0]\n",
    "    B = int(operation[1])\n",
    "    set_B = set(map(int, input().split()))\n",
    "    \n",
    "    if command == \"update\":\n",
    "        set_A.update(set_B)\n",
    "    elif command == \"intersection_update\":\n",
    "        set_A.intersection_update(set_B)\n",
    "    elif command == \"difference_update\":\n",
    "        set_A.difference_update(set_B)\n",
    "    elif command == \"symmetric_difference_update\":\n",
    "        set_A.symmetric_difference_update(set_B)\n",
    "    \n",
    "res = sum(set_A)\n",
    "print(res)"
   ]
  },
  {
   "cell_type": "markdown",
   "id": "c4226b8e",
   "metadata": {},
   "source": [
    "#### The Captaion's Room"
   ]
  },
  {
   "cell_type": "code",
   "execution_count": null,
   "id": "082a2fca",
   "metadata": {},
   "outputs": [],
   "source": [
    "from collections import Counter\n",
    "\n",
    "group_size = int(input())\n",
    "room_number_list = list(map(int, input().split()))\n",
    "room_number_set = set(room_number_list)\n",
    "counter = Counter(room_number_list)\n",
    "\n",
    "captain_room = 0\n",
    "\n",
    "for number in room_number_set:\n",
    "    if counter[number] == 1:\n",
    "        captain_room = number\n",
    "        break\n",
    "   \n",
    "print(captain_room)\n"
   ]
  },
  {
   "cell_type": "markdown",
   "id": "635b5f1b",
   "metadata": {},
   "source": [
    "#### Check Subset"
   ]
  },
  {
   "cell_type": "code",
   "execution_count": null,
   "id": "77acf256",
   "metadata": {},
   "outputs": [],
   "source": [
    "test_cases = int(input())\n",
    "\n",
    "for _ in range (test_cases):\n",
    "    number_A_elements = int(input())\n",
    "    A_elements = set(input().split())\n",
    "    number_B_elements = int(input())\n",
    "    B_elements = set(input().split())\n",
    "    \n",
    "    flag = True\n",
    "    for elem in A_elements:\n",
    "        if elem not in B_elements:\n",
    "            flag = False\n",
    "    print(flag)\n"
   ]
  },
  {
   "cell_type": "markdown",
   "id": "b3840472",
   "metadata": {},
   "source": [
    "#### Chech Strict Superset"
   ]
  },
  {
   "cell_type": "code",
   "execution_count": null,
   "id": "b3e83b66",
   "metadata": {},
   "outputs": [],
   "source": [
    "set_A = set(map(int, input().split()))\n",
    "N = int(input())\n",
    "flag = True\n",
    "\n",
    "for _ in range(N):\n",
    "    set_B = set(map(int, input().split()))\n",
    "    \n",
    "    if set_B.intersection(set_A) != set_B:\n",
    "        flag = False\n",
    "        break\n",
    "        \n",
    "    elif len(set_A.difference(set_B)) < 1:\n",
    "        flag = False\n",
    "        break\n",
    "        \n",
    "print(flag)"
   ]
  },
  {
   "cell_type": "markdown",
   "id": "d2a145f9",
   "metadata": {},
   "source": [
    "### 04 - Collections"
   ]
  },
  {
   "cell_type": "markdown",
   "id": "e7c93f9a",
   "metadata": {},
   "source": [
    "#### collections.Counter()"
   ]
  },
  {
   "cell_type": "code",
   "execution_count": null,
   "id": "9e0875ce",
   "metadata": {},
   "outputs": [],
   "source": [
    "from collections import Counter\n",
    "\n",
    "X = int(input()) # number of shoes\n",
    "shoes_sizes = list(map(int, input().split()))\n",
    "N = int(input()) # number of customers\n",
    "\n",
    "earning = 0\n",
    "counter = Counter(shoes_sizes)\n",
    "\n",
    "for _ in range(N):\n",
    "    request = input().split()\n",
    "    size = int(request[0])\n",
    "    price = int(request[1])\n",
    "    \n",
    "    if counter[size] > 0:\n",
    "        earning += price\n",
    "        counter[size] -= 1\n",
    "    \n",
    "print(earning)\n",
    "    "
   ]
  },
  {
   "cell_type": "markdown",
   "id": "5fcef325",
   "metadata": {},
   "source": [
    "#### DefaultDict Tutorial"
   ]
  },
  {
   "cell_type": "code",
   "execution_count": null,
   "id": "f8b8095f",
   "metadata": {},
   "outputs": [],
   "source": [
    "from collections import defaultdict\n",
    "\n",
    "integers = input().split()\n",
    "n = int(integers[0])\n",
    "m = int(integers[1])\n",
    "\n",
    "def_dict = defaultdict(list)\n",
    "\n",
    "for i in range(1, n+1):\n",
    "    def_dict[input()].append(str(i))\n",
    "\n",
    "for i in range(m):\n",
    "    value = input()\n",
    "    if value in def_dict:\n",
    "        print(\" \".join(def_dict[value]))\n",
    "    else:\n",
    "        print(-1)"
   ]
  },
  {
   "cell_type": "markdown",
   "id": "d82351fa",
   "metadata": {},
   "source": [
    "#### Collections.namedtuple()"
   ]
  },
  {
   "cell_type": "code",
   "execution_count": null,
   "id": "10a8c4cd",
   "metadata": {},
   "outputs": [],
   "source": [
    "from collections import namedtuple\n",
    "\n",
    "N = int(input())\n",
    "columns = input().split()\n",
    "\n",
    "Student = namedtuple('Student', columns) # create namedtuple Student\n",
    "sum_marks = 0\n",
    "\n",
    "for _ in range(N):\n",
    "    values = input().split()\n",
    "    \n",
    "    student = Student(*values) # create new student with the input values\n",
    "    sum_marks += int(student.MARKS)\n",
    "\n",
    "avg = sum_marks / N\n",
    "print(\"%.2f\" % avg)"
   ]
  },
  {
   "cell_type": "markdown",
   "id": "968b67de",
   "metadata": {},
   "source": [
    "#### Collection.OrderedDict()"
   ]
  },
  {
   "cell_type": "code",
   "execution_count": null,
   "id": "f99fe22a",
   "metadata": {},
   "outputs": [],
   "source": [
    "from collections import OrderedDict\n",
    "\n",
    "N = int(input())\n",
    "ord_dictionary = OrderedDict()\n",
    "\n",
    "for _ in range(N):\n",
    "    item = input().split()\n",
    "    \n",
    "    \"\"\" it works only if the name of the item is at most 2 words\n",
    "    if len(item) == 2:\n",
    "        if item[0] in ord_dictionary:\n",
    "            ord_dictionary[item[0]] += int(item[1])\n",
    "        else:\n",
    "            ord_dictionary[item[0]] = int(item[1])\n",
    "    else:\n",
    "        if item[0]+\" \"+item[1] in ord_dictionary:\n",
    "            ord_dictionary[item[0]+\" \"+item[1]] += int(item[2])\n",
    "        else:\n",
    "            ord_dictionary[item[0]+\" \"+item[1]] = int(item[2])\n",
    "    \"\"\"\n",
    "    price = item.pop()\n",
    "    name = \" \".join(item)\n",
    "    \n",
    "    if name in ord_dictionary:\n",
    "        ord_dictionary[name] += int(price)\n",
    "    else:\n",
    "        ord_dictionary[name] = int(price)\n",
    "    \n",
    "for item in ord_dictionary:\n",
    "    print(item, str(ord_dictionary[item]))"
   ]
  },
  {
   "cell_type": "markdown",
   "id": "340ab4a3",
   "metadata": {},
   "source": [
    "#### Word Order"
   ]
  },
  {
   "cell_type": "code",
   "execution_count": null,
   "id": "85f514bf",
   "metadata": {},
   "outputs": [],
   "source": [
    "from collections import defaultdict\n",
    "\n",
    "dict = defaultdict(list)\n",
    "n = int(input())\n",
    "\n",
    "for i in range(1, n+1):\n",
    "    dict[input()].append(str(i))\n",
    "    \n",
    "print(len(dict))\n",
    "\n",
    "for item in dict:\n",
    "    print(len(dict[item]), end=\" \")"
   ]
  },
  {
   "cell_type": "markdown",
   "id": "91ae7df9",
   "metadata": {},
   "source": [
    "#### Collections.deque()"
   ]
  },
  {
   "cell_type": "code",
   "execution_count": null,
   "id": "5e4e879b",
   "metadata": {},
   "outputs": [],
   "source": [
    "from collections import deque\n",
    "\n",
    "N = int(input())\n",
    "d = deque()\n",
    "for _ in range(N):\n",
    "    operation = input().split()\n",
    "    command = operation[0]\n",
    "    \n",
    "    if command == \"append\":\n",
    "        d.append(int(operation[1]))\n",
    "    elif command == \"appendleft\":\n",
    "        d.appendleft(int(operation[1]))\n",
    "    elif command == \"pop\":\n",
    "        d.pop()\n",
    "    elif command == \"popleft\":\n",
    "        d.popleft()\n",
    "        \n",
    "for item in d:\n",
    "    print(item, end=\" \")"
   ]
  },
  {
   "cell_type": "markdown",
   "id": "2d7d14b5",
   "metadata": {},
   "source": [
    "#### Company Logo"
   ]
  },
  {
   "cell_type": "code",
   "execution_count": null,
   "id": "bb2c36b7",
   "metadata": {},
   "outputs": [],
   "source": [
    "import math\n",
    "import os\n",
    "import random\n",
    "import re\n",
    "import sys\n",
    "\n",
    "\n",
    "from collections import Counter\n",
    "\n",
    "if __name__ == '__main__':\n",
    "    string = sorted(input()) # return a list of the letters of the input string, sorted alphabetically\n",
    "    counter = Counter(string)\n",
    "    \n",
    "    top_three = counter.most_common(3) # return 3 tuples (item, count) sorted by count\n",
    "        \n",
    "    for item in top_three:\n",
    "        print(item[0], item[1])\n",
    "   "
   ]
  },
  {
   "cell_type": "markdown",
   "id": "8513f84d",
   "metadata": {},
   "source": [
    "#### Piling Up!"
   ]
  },
  {
   "cell_type": "code",
   "execution_count": 3,
   "id": "9962642f",
   "metadata": {},
   "outputs": [
    {
     "name": "stdout",
     "output_type": "stream",
     "text": [
      "2\n",
      "6\n",
      "4 3 2 1 3 4\n",
      "Yes\n",
      "3\n",
      "1 3 2\n",
      "No\n"
     ]
    }
   ],
   "source": [
    "from collections import deque\n",
    "\n",
    "T = int(input())  # number of tests\n",
    "\n",
    "for _ in range(T):\n",
    "    n = int(input())  # size of input\n",
    "    \n",
    "    flag = True\n",
    "    d = deque(map(int, input().split()))  # create a deque with input list\n",
    "    \n",
    "    if d[0] >= d[-1]:  # initialize max with the max number between first and last element of d\n",
    "        max = d.popleft()\n",
    "    else:\n",
    "        max = d.pop()\n",
    "    \n",
    "    while d:\n",
    "        \n",
    "        if (len(d) == 1): # d has only one element left, so if it's less than max print Yes, otherwise print No\n",
    "            if d[0] <= max:\n",
    "                break\n",
    "            else:\n",
    "                flag = False\n",
    "                break\n",
    "                \n",
    "        else:  # remove the max value between the leftmost and rightmost element of d and change value of max\n",
    "            if d[0] <= max and d[-1] <= max:\n",
    "                if d[0] >= d[-1]:\n",
    "                    max = d.popleft()\n",
    "                else:\n",
    "                    max = d.pop()\n",
    "                    \n",
    "            elif d[0] <= max:\n",
    "                max = d.popleft()\n",
    "                \n",
    "            elif d[-1] <= max:\n",
    "                max = d.pop()\n",
    "            \n",
    "            else:   # both the leftmost and rightmost element of d are greater than max, so we have to print No\n",
    "                flag = False\n",
    "                break\n",
    "                \n",
    "    if (flag):\n",
    "        print(\"Yes\")\n",
    "    else:\n",
    "        print(\"No\")"
   ]
  },
  {
   "cell_type": "markdown",
   "id": "fd3c1c8f",
   "metadata": {},
   "source": [
    "### 05 - Date and Time"
   ]
  },
  {
   "cell_type": "markdown",
   "id": "66c096de",
   "metadata": {},
   "source": [
    "#### Calendar Module"
   ]
  },
  {
   "cell_type": "code",
   "execution_count": null,
   "id": "b137f84e",
   "metadata": {},
   "outputs": [],
   "source": [
    "import calendar\n",
    "date = input().split()\n",
    "\n",
    "month = int(date[0])\n",
    "day = int(date[1])\n",
    "year = int(date[2])\n",
    "\n",
    "res = calendar.weekday(year, month, day)\n",
    "if res == 0:\n",
    "    print(\"MONDAY\")\n",
    "elif res == 1:\n",
    "    print(\"TUESDAY\")\n",
    "elif res == 2:\n",
    "    print(\"WEDNESDAY\")\n",
    "elif res == 3:\n",
    "    print(\"THURSDAY\")\n",
    "elif res == 4:\n",
    "    print(\"FRIDAY\")\n",
    "elif res == 5:\n",
    "    print(\"SATURDAY\")\n",
    "else:\n",
    "    print(\"SUNDAY\")\n"
   ]
  },
  {
   "cell_type": "markdown",
   "id": "fadaf36a",
   "metadata": {},
   "source": [
    "#### Time Delta"
   ]
  },
  {
   "cell_type": "code",
   "execution_count": null,
   "id": "ad7c0fe4",
   "metadata": {},
   "outputs": [],
   "source": [
    "import math\n",
    "import os\n",
    "import random\n",
    "import re\n",
    "import sys\n",
    "from datetime import datetime\n",
    "\n",
    "\n",
    "def time_delta(t1, t2):\n",
    "    t1 = datetime.strptime(t1, '%a %d %b %Y %H:%M:%S %z')\n",
    "    t2 = datetime.strptime(t2, '%a %d %b %Y %H:%M:%S %z')\n",
    "    res = int(abs(t1-t2).total_seconds())\n",
    "    return str(res)\n",
    "\n",
    "if __name__ == '__main__':\n",
    "    fptr = open(os.environ['OUTPUT_PATH'], 'w')\n",
    "\n",
    "    t = int(input())\n",
    "\n",
    "    for t_itr in range(t):\n",
    "        t1 = input()\n",
    "        t2 = input()\n",
    "\n",
    "        delta = time_delta(t1, t2)\n",
    "\n",
    "        fptr.write(delta + '\\n')\n",
    "\n",
    "    fptr.close()"
   ]
  },
  {
   "cell_type": "markdown",
   "id": "cdcae6f5",
   "metadata": {},
   "source": [
    "### 06 - Errors and Exceptions"
   ]
  },
  {
   "cell_type": "markdown",
   "id": "8ddf621f",
   "metadata": {},
   "source": [
    "#### Exceptions"
   ]
  },
  {
   "cell_type": "code",
   "execution_count": null,
   "id": "100b14e3",
   "metadata": {},
   "outputs": [],
   "source": [
    "T = int(input())\n",
    "\n",
    "for _ in range(T):\n",
    "    values = input().split()\n",
    "    a = values[0]\n",
    "    b = values[1]\n",
    "    \n",
    "    try:\n",
    "        print(int(a)//int(b))\n",
    "        \n",
    "    except ZeroDivisionError as e1:\n",
    "        print(\"Error Code:\", e1)\n",
    "        \n",
    "    except ValueError as e2:\n",
    "        print(\"Error Code:\", e2)\n",
    "        "
   ]
  },
  {
   "cell_type": "markdown",
   "id": "277f1bf6",
   "metadata": {},
   "source": [
    "### 07 - Builts-Ins"
   ]
  },
  {
   "cell_type": "markdown",
   "id": "97013dc6",
   "metadata": {},
   "source": [
    "#### Zipped!"
   ]
  },
  {
   "cell_type": "code",
   "execution_count": null,
   "id": "e5e0c078",
   "metadata": {},
   "outputs": [],
   "source": [
    "numbers = input().split()\n",
    "N = int(numbers[0]) # number of students\n",
    "X = int(numbers[1]) # number of subjects\n",
    "\n",
    "subject_marks = list()\n",
    "\n",
    "for i in range(X):\n",
    "    marks = list(map(float,input().split())) # create a list of the marks of each subject\n",
    "    subject_marks.append(marks)\n",
    "\n",
    "# create a list of lists, where aech list represents the marks of a student\n",
    "student_marks = list(zip(*subject_marks))\n",
    "\n",
    "for student in student_marks:\n",
    "    print(sum(student)/X)"
   ]
  },
  {
   "cell_type": "markdown",
   "id": "98cd3e94",
   "metadata": {},
   "source": [
    "#### Athlete Sort"
   ]
  },
  {
   "cell_type": "code",
   "execution_count": null,
   "id": "b1c07fcd",
   "metadata": {},
   "outputs": [],
   "source": [
    "import math\n",
    "import os\n",
    "import random\n",
    "import re\n",
    "import sys\n",
    "\n",
    "if __name__ == '__main__':\n",
    "    nm = input().split()\n",
    "\n",
    "    n = int(nm[0])\n",
    "    m = int(nm[1])\n",
    "    \n",
    "    arr = []\n",
    "    for _ in range(n):\n",
    "        arr.append(list(map(int, input().rstrip().split())))\n",
    "    \n",
    "    k = int(input())\n",
    "    \n",
    "    # create new list from the original one, sorting by the k-th attribute\n",
    "    sorted_array = sorted(arr, key=lambda x: x[k])\n",
    "    \n",
    "    for i in range(n):\n",
    "        athlete_values = \" \".join(map(str, sorted_array[i]))\n",
    "        print(athlete_values)"
   ]
  },
  {
   "cell_type": "markdown",
   "id": "83b9d016",
   "metadata": {},
   "source": [
    "#### ginortS!"
   ]
  },
  {
   "cell_type": "code",
   "execution_count": null,
   "id": "74edcd5f",
   "metadata": {},
   "outputs": [],
   "source": [
    "string = input()\n",
    "characters = list(string)\n",
    "\n",
    "lower_chars = \"\"\n",
    "upper_chars = \"\"\n",
    "odd_numbers = \"\"\n",
    "even_numbers = \"\"\n",
    "\n",
    "for char in characters:\n",
    "    if char.isalpha():\n",
    "        if char.islower():\n",
    "            lower_chars += char\n",
    "        else:\n",
    "            upper_chars += char\n",
    "    elif char.isdigit():\n",
    "        if int(char) % 2 == 0:\n",
    "            even_numbers += char\n",
    "        else:\n",
    "            odd_numbers += char\n",
    "    \n",
    "output = sorted(lower_chars) + sorted(upper_chars) + sorted(odd_numbers) + sorted(even_numbers)\n",
    "    \n",
    "string = \"\".join(output)\n",
    "    \n",
    "print(string)"
   ]
  },
  {
   "cell_type": "markdown",
   "id": "a886180c",
   "metadata": {},
   "source": [
    "### 08 - Python Functionals"
   ]
  },
  {
   "cell_type": "markdown",
   "id": "c5caf2b4",
   "metadata": {},
   "source": [
    "#### Map and Lambda Function"
   ]
  },
  {
   "cell_type": "code",
   "execution_count": null,
   "id": "9f936a8a",
   "metadata": {},
   "outputs": [],
   "source": [
    "cube = lambda x: x**3\n",
    "\n",
    "def fibonacci(n):\n",
    "    # if n==0 return empty list\n",
    "    if (n==0):\n",
    "        fibo = list()\n",
    "        \n",
    "    # if n==1 return a list with element 0 \n",
    "    elif(n==1):\n",
    "        fibo = [0]\n",
    "        \n",
    "    elif(n>1):\n",
    "        fibo = [0, 1]\n",
    "        for i in range(2,n):\n",
    "            fibo.append(fibo[i-2] + fibo[i-1])\n",
    "\n",
    "    return fibo\n",
    "\n",
    "if __name__ == '__main__':\n",
    "    n = int(input())\n",
    "    print(list(map(cube, fibonacci(n))))"
   ]
  },
  {
   "cell_type": "markdown",
   "id": "4fb66320",
   "metadata": {},
   "source": [
    "### 09 - Regex and Parsing"
   ]
  },
  {
   "cell_type": "markdown",
   "id": "45604205",
   "metadata": {},
   "source": [
    "#### Detect Floating Point Number"
   ]
  },
  {
   "cell_type": "code",
   "execution_count": null,
   "id": "d9dcd07e",
   "metadata": {},
   "outputs": [],
   "source": [
    "import re\n",
    "\n",
    "N = int(input())\n",
    "\n",
    "pattern = r'^[+-]?[0-9]*.[0-9]+*$'\n",
    "\n",
    "for _ in range(N):\n",
    "    string = input()\n",
    "    \n",
    "    if re.match(pattern, string):\n",
    "        print(\"True\")\n",
    "    else:\n",
    "        print(\"False\")"
   ]
  },
  {
   "cell_type": "markdown",
   "id": "cec9f02a",
   "metadata": {},
   "source": [
    "#### Re.split()"
   ]
  },
  {
   "cell_type": "code",
   "execution_count": null,
   "id": "0a8cb5a4",
   "metadata": {},
   "outputs": [],
   "source": [
    "import re\n",
    "\n",
    "regex_pattern = r'[.,]'\t# Do not delete 'r'.\n",
    "\n",
    "print(\"\\n\".join(re.split(regex_pattern, input())))"
   ]
  },
  {
   "cell_type": "markdown",
   "id": "a0297136",
   "metadata": {},
   "source": [
    "#### Group(), Groups() & Groupdict()"
   ]
  },
  {
   "cell_type": "code",
   "execution_count": null,
   "id": "428967e3",
   "metadata": {},
   "outputs": [],
   "source": [
    "import re\n",
    "\n",
    "string = input()\n",
    "\n",
    "pattern = r'([a-zA-Z0-9])\\1'\n",
    "\n",
    "# search() returns a (MatchObject) if it finds a match of the pattern in the string, which contains information about the corresponding position and text\n",
    "matches = re.search(pattern, string)\n",
    "\n",
    "\n",
    "if matches:\n",
    "    print(matches.group(1))\n",
    "else:\n",
    "    print(-1)"
   ]
  },
  {
   "cell_type": "markdown",
   "id": "27a17fbe",
   "metadata": {},
   "source": [
    "#### Re.findall() & Re.finditer()"
   ]
  },
  {
   "cell_type": "code",
   "execution_count": null,
   "id": "9df76ca9",
   "metadata": {},
   "outputs": [],
   "source": [
    "import re\n",
    "\n",
    "string = input()\n",
    "\n",
    "# (?<=[bcdfghjklmnpqrstvwxtyzBCDFGHKLMNPQRSTVWXYZ]) consonant before the group of vowels\n",
    "# ([aeiouAEIOU]{2,}) at least 2 vowels\n",
    "# (?=[bcdfghjklmnpqrstvwxtyzBCDFGHKLMNPQRSTVWXYZ]) consonant after the group of vowels\n",
    "\n",
    "pattern = r'(?<=[bcdfghjklmnpqrstvwxtyzBCDFGHKLMNPQRSTVWXYZ])([aeiouAEIOU]{2,})(?=[bcdfghjklmnpqrstvwxtyzBCDFGHKLMNPQRSTVWXYZ])'\n",
    "\n",
    "matches = re.findall(pattern, string)\n",
    "\n",
    "if matches:\n",
    "    for elem in matches:\n",
    "        print(elem)\n",
    "else:\n",
    "    print(-1)"
   ]
  },
  {
   "cell_type": "markdown",
   "id": "05a6fba9",
   "metadata": {},
   "source": [
    "#### Re.start() & Re.end()"
   ]
  },
  {
   "cell_type": "code",
   "execution_count": null,
   "id": "c8a8d7a4",
   "metadata": {},
   "outputs": [],
   "source": [
    "import re\n",
    "\n",
    "string = input()\n",
    "substring = input()\n",
    "\n",
    "# re.finditer() finds all the occurrences of a regular expression pattern in a string and returns them in an iterator\n",
    "matches = re.finditer(substring, string)\n",
    "\n",
    "positions = []\n",
    "for match in matches:\n",
    "    start = match.start()\n",
    "    end = match.start() + len(substring) - 1\n",
    "    positions.append((start, end))\n",
    "\n",
    "if positions:\n",
    "    for elem in positions:\n",
    "        start = elem[0]\n",
    "        end = elem[1]        \n",
    "        print((start, end))\n",
    "else:\n",
    "    print((-1, -1))"
   ]
  },
  {
   "cell_type": "markdown",
   "id": "1a90146d",
   "metadata": {},
   "source": [
    "#### Regex Substitution"
   ]
  },
  {
   "cell_type": "code",
   "execution_count": null,
   "id": "ef6e1c31",
   "metadata": {},
   "outputs": [],
   "source": [
    "import re\n",
    "N = int(input())\n",
    "\n",
    "# (?<= ) blank space before && or ||\n",
    "# (?= ) blank space after && or ||\n",
    "regex_pattern1 = r'(?<= )&&(?= )'\n",
    "regex_pattern2 = r'(?<= )\\|\\|(?= )'\n",
    "\n",
    "for _ in range(N):\n",
    "    string = input()\n",
    "    sub1 = re.sub(regex_pattern1, \"and\", string)\n",
    "    sub2 = re.sub(regex_pattern2, \"or\", sub1)\n",
    "    print(sub2)"
   ]
  },
  {
   "cell_type": "markdown",
   "id": "f96c3850",
   "metadata": {},
   "source": [
    "#### Validating Roman Numerals"
   ]
  },
  {
   "cell_type": "code",
   "execution_count": 1,
   "id": "32c782bc",
   "metadata": {},
   "outputs": [
    {
     "name": "stdout",
     "output_type": "stream",
     "text": [
      "True\n"
     ]
    }
   ],
   "source": [
    "regex_pattern = r'^M{0,3}(CM|DC{0,3}|CD{0,3}|C{0,3})(XC|LX{0,3}|XL|X{0,3})(IX|VI{0,3}|IV|I{0,3})$'\t# Do not delete 'r'.\n",
    "\n",
    "\"\"\"  Rules for Roman Numbers composition:\n",
    "100: C          10: X           0: empty\n",
    "200: CC         20: XX          1: I\n",
    "300: CCC        30: XXX         2: II\n",
    "400: CD         40: XL          3: III\n",
    "500: D          50: L           4: IV\n",
    "600: DC         60: LX          5: V\n",
    "700: DCC        70: LXX         6: VI\n",
    "800: DCCC       80: LXXX        7: VII \n",
    "900: CM         90: XC          8: VIII\n",
    "                                9: IX\n",
    "\"\"\"\n",
    "\n",
    "import re\n",
    "print(str(bool(re.match(regex_pattern, input()))))"
   ]
  },
  {
   "cell_type": "markdown",
   "id": "66e3ef1d",
   "metadata": {},
   "source": [
    "#### Validating phone numbers"
   ]
  },
  {
   "cell_type": "code",
   "execution_count": null,
   "id": "2d53c367",
   "metadata": {},
   "outputs": [],
   "source": [
    "import re\n",
    "\n",
    "N = int(input())\n",
    "regex_pattern = r'^[789][0-9]{9}$'\n",
    "\n",
    "for _ in range(N):\n",
    "    mobile_number = input()\n",
    "    match = re.match(regex_pattern, mobile_number)\n",
    "    if(match):\n",
    "        print(\"YES\")\n",
    "    else:\n",
    "        print(\"NO\")"
   ]
  },
  {
   "cell_type": "markdown",
   "id": "e8384e15",
   "metadata": {},
   "source": [
    "#### Validating and Parsing Email Addresses"
   ]
  },
  {
   "cell_type": "code",
   "execution_count": null,
   "id": "a60df0e5",
   "metadata": {},
   "outputs": [],
   "source": [
    "import re\n",
    "import email.utils\n",
    "\n",
    "N = int(input())\n",
    "pattern = r'^[a-z][a-z0-9\\.\\-\\_]*@[a-z]+(?:\\.[a-z]{1,3})$'\n",
    "\n",
    "for _ in range(N):\n",
    "    string = input()\n",
    "    name, address = email.utils.parseaddr(string)\n",
    " \n",
    "    if re.match(pattern, address):\n",
    "        print(string)"
   ]
  },
  {
   "cell_type": "markdown",
   "id": "296a668f",
   "metadata": {},
   "source": [
    "#### Hex Color Code"
   ]
  },
  {
   "cell_type": "code",
   "execution_count": null,
   "id": "832886a8",
   "metadata": {},
   "outputs": [],
   "source": [
    "import re\n",
    "\n",
    "N = int(input())\n",
    "regex_pattern = r'^#[0-9A-Fa-f]{3}(?=;|,|\\))|#[A-Fa-f0-9]{6}(?=;|,|\\))'\n",
    "\n",
    "for _ in range(N):\n",
    "    \n",
    "    # use both blank space and : as splitter\n",
    "    words = re.split(r'[:\\s]', input())\n",
    "    \n",
    "    for item in words:\n",
    "        match = re.match(regex_pattern, item)\n",
    "    \n",
    "        if(match):\n",
    "            print(match[0])\n",
    "    "
   ]
  },
  {
   "cell_type": "markdown",
   "id": "dbcea4d2",
   "metadata": {},
   "source": [
    "#### HTML Parser - Part 1"
   ]
  },
  {
   "cell_type": "code",
   "execution_count": null,
   "id": "e4a621f9",
   "metadata": {},
   "outputs": [],
   "source": [
    "from html.parser import HTMLParser\n",
    "\n",
    "class MyHTMLParser(HTMLParser):\n",
    "    def handle_starttag(self, tag, attrs):\n",
    "        print(\"Start :\", tag)\n",
    "        # the attrs argument is a list of (name, value) pairs\n",
    "        for attribute in attrs:\n",
    "            print(\"->\", attribute[0], \">\", attribute[1])\n",
    "        \n",
    "    def handle_endtag(self, tag):\n",
    "        print(\"End   :\", tag)\n",
    "        \n",
    "    def handle_startendtag(self, tag, attrs):\n",
    "        print(\"Empty :\", tag)\n",
    "        # the attrs argument is a list of (name, value) pairs\n",
    "        for attribute in attrs:\n",
    "            print(\"->\", attribute[0], \">\", attribute[1])\n",
    "    \n",
    "parser = MyHTMLParser()\n",
    "N = int(input())\n",
    "for _ in range(N):\n",
    "    parser.feed(input())"
   ]
  },
  {
   "cell_type": "markdown",
   "id": "09111acb",
   "metadata": {},
   "source": [
    "#### HTML Parser - Part 2"
   ]
  },
  {
   "cell_type": "code",
   "execution_count": null,
   "id": "a059d0d4",
   "metadata": {},
   "outputs": [],
   "source": [
    "from html.parser import HTMLParser\n",
    "\n",
    "class MyHTMLParser(HTMLParser):\n",
    "    def handle_comment(self, data):\n",
    "        if '\\n' not in data:\n",
    "            print('>>> Single-line Comment')\n",
    "            print(data)\n",
    "        else:\n",
    "            print('>>> Multi-line Comment')\n",
    "            print(data)\n",
    "            \n",
    "    def handle_data(self, data):\n",
    "        if data != \"\\n\":\n",
    "            print(\">>> Data\")\n",
    "            print(data)\n",
    "        \n",
    "html = \"\"\n",
    "for i in range(int(input())):\n",
    "    html += input().rstrip()\n",
    "    html += '\\n'\n",
    "    \n",
    "parser = MyHTMLParser()\n",
    "parser.feed(html)\n",
    "parser.close()"
   ]
  },
  {
   "cell_type": "markdown",
   "id": "364bbc4f",
   "metadata": {},
   "source": [
    "#### Detect HTML Tags, Attributes and Attribute Values"
   ]
  },
  {
   "cell_type": "code",
   "execution_count": null,
   "id": "fb7c9fb4",
   "metadata": {},
   "outputs": [],
   "source": [
    "from html.parser import HTMLParser\n",
    "\n",
    "class MyHTMLParser(HTMLParser):\n",
    "    def handle_starttag(self, tag, attrs):\n",
    "        print(tag)\n",
    "        # the attrs argument is a list of (name, value) pairs\n",
    "        for attribute in attrs:\n",
    "            print(\"->\", attribute[0], \">\", attribute[1])\n",
    "     \n",
    "    def handle_startendtag(self, tag, attrs):\n",
    "        print(tag)\n",
    "        # the attrs argument is a list of (name, value) pairs\n",
    "        for attribute in attrs:\n",
    "            print(\"->\", attribute[0], \">\", attribute[1])\n",
    "    \n",
    "   \n",
    "parser = MyHTMLParser()\n",
    "N = int(input())\n",
    "for _ in range(N):\n",
    "    parser.feed(input())"
   ]
  },
  {
   "cell_type": "markdown",
   "id": "ee615782",
   "metadata": {},
   "source": [
    "#### Valid UID"
   ]
  },
  {
   "cell_type": "code",
   "execution_count": null,
   "id": "450b0521",
   "metadata": {},
   "outputs": [],
   "source": [
    "import re\n",
    "T = int(input())\n",
    "\n",
    "# (?!.*(.).*\\1) check there are not repeating characters \n",
    "# (?=(?:.*[A-Z]){2,}) check there are at least 2 Upper case characters\n",
    "# (?=(?:.*[0-9]){3,}) check there are at least 3 digits\n",
    "# [A-Za-z0-9]{10} check there are exactly 10 characters\n",
    "\n",
    "pattern = r'^(?!.*(.).*\\1)(?=(?:.*[A-Z]){2,})(?=(?:.*[0-9]){3,})[A-Za-z0-9]{10}$'\n",
    "\n",
    "for _ in range(T):\n",
    "    if re.match(pattern, input()):\n",
    "        print(\"Valid\")\n",
    "    else:\n",
    "        print(\"Invalid\")"
   ]
  },
  {
   "cell_type": "markdown",
   "id": "c7935665",
   "metadata": {},
   "source": [
    "#### Validating Credit Card Numbers"
   ]
  },
  {
   "cell_type": "code",
   "execution_count": null,
   "id": "650b6585",
   "metadata": {},
   "outputs": [],
   "source": [
    "import re \n",
    "N = int(input())\n",
    "\n",
    "# (?!.*([0-9])(-?\\1){3,})  negative lookahead to express a condition we don't want to see:\n",
    "# ([0-9]) captures a digit and then we check that there are 3 or more other occurrences of the digit with an optional - between digits\n",
    "regex_pattern = r'^(?!.*([0-9])(-?\\1){3,})[4|5|6][0-9]{3}(-?[0-9]{4}){3}$'\n",
    "\n",
    "for _ in range(N):\n",
    "    card_number = input()\n",
    "    match = re.match(regex_pattern, card_number)\n",
    "    \n",
    "    if (match):\n",
    "        print(\"Valid\")\n",
    "    else:\n",
    "        print(\"Invalid\")"
   ]
  },
  {
   "cell_type": "markdown",
   "id": "d8ce28b2",
   "metadata": {},
   "source": [
    "#### Validating Postal Codes"
   ]
  },
  {
   "cell_type": "code",
   "execution_count": null,
   "id": "5060d0dd",
   "metadata": {},
   "outputs": [],
   "source": [
    "regex_integer_in_range = r'^[1-9][0-9]{5}$'\t # Do not delete 'r'.\n",
    "regex_alternating_repetitive_digit_pair = r'([0-9])(?=[0-9]\\1)'\n",
    "\n",
    "\n",
    "import re\n",
    "P = input()\n",
    "\n",
    "print (bool(re.match(regex_integer_in_range, P)) \n",
    "and len(re.findall(regex_alternating_repetitive_digit_pair, P)) < 2)"
   ]
  },
  {
   "cell_type": "markdown",
   "id": "b795667c",
   "metadata": {},
   "source": [
    "#### Matrix Script"
   ]
  },
  {
   "cell_type": "code",
   "execution_count": 2,
   "id": "75d1d563",
   "metadata": {},
   "outputs": [
    {
     "name": "stdout",
     "output_type": "stream",
     "text": [
      "7 3\n",
      "Tsi\n",
      "h%x\n",
      "i #\n",
      "sM \n",
      "$a \n",
      "#t%\n",
      "ir!\n",
      "This is Matrix#  %!\n"
     ]
    }
   ],
   "source": [
    "import math\n",
    "import os\n",
    "import random\n",
    "import re\n",
    "import sys\n",
    "\n",
    "\n",
    "first_multiple_input = input().rstrip().split()\n",
    "\n",
    "n = int(first_multiple_input[0])\n",
    "m = int(first_multiple_input[1])\n",
    "\n",
    "matrix = []\n",
    "\n",
    "for _ in range(n):\n",
    "    matrix_item = input()\n",
    "    matrix.append(matrix_item)\n",
    " \n",
    "res = \"\"\n",
    "# Scan matrix by columns, visiting all the rows of a column from top to bottom, adding each character to the string res\n",
    "for j in range(m):\n",
    "    for i in range(n):\n",
    "        res += matrix[i][j]\n",
    "\n",
    "# I define the regex_pattern i want to replace with blank space in the res string\n",
    "regex_pattern = r'(?<=[a-zA-Z0-9])[!@#$%&\\s]+(?=[a-zA-Z0-9])'\n",
    "res = re.sub(regex_pattern,\" \",res)\n",
    "print(res)\n"
   ]
  },
  {
   "cell_type": "markdown",
   "id": "4f0b36c1",
   "metadata": {},
   "source": [
    "### 10 - XML"
   ]
  },
  {
   "cell_type": "markdown",
   "id": "f366b12b",
   "metadata": {},
   "source": [
    "#### XML 1 - Find the Score"
   ]
  },
  {
   "cell_type": "code",
   "execution_count": null,
   "id": "066366a2",
   "metadata": {},
   "outputs": [],
   "source": [
    "import sys\n",
    "import xml.etree.ElementTree as etree\n",
    "\n",
    "def get_attr_number(node):\n",
    "    # your code goes here\n",
    "    # initialize the score with the number of attributes of the node\n",
    "    score = len(node.attrib)\n",
    "    \n",
    "    # update score with number of attributes of each child of every node (recursively)\n",
    "    for child in node:\n",
    "        score += get_attr_number(child)\n",
    "    \n",
    "    # the final score is the sum of the attributes of node and attributes of all its children\n",
    "    return score\n",
    "\n",
    "    \n",
    "if __name__ == '__main__':\n",
    "    sys.stdin.readline()\n",
    "    xml = sys.stdin.read()\n",
    "    tree = etree.ElementTree(etree.fromstring(xml))\n",
    "    root = tree.getroot()\n",
    "    print(get_attr_number(root))"
   ]
  },
  {
   "cell_type": "markdown",
   "id": "a9438b53",
   "metadata": {},
   "source": [
    "#### XML2 - Find the Maximum Depth"
   ]
  },
  {
   "cell_type": "code",
   "execution_count": null,
   "id": "8f7afb53",
   "metadata": {},
   "outputs": [],
   "source": [
    "import xml.etree.ElementTree as etree\n",
    "\n",
    "maxdepth = 0\n",
    "def depth(elem, level):\n",
    "    global maxdepth\n",
    "    # your code goes here\n",
    "    level += 1\n",
    "    # if we reach a deeper level of nesting, update maxdepth\n",
    "    if level > maxdepth:\n",
    "        maxdepth = level\n",
    "        \n",
    "    for child in elem:\n",
    "        depth(child, level)\n",
    "  \n",
    "    return maxdepth\n",
    "    \n",
    "\n",
    "if __name__ == '__main__':\n",
    "    n = int(input())\n",
    "    xml = \"\"\n",
    "    for i in range(n):\n",
    "        xml =  xml + input() + \"\\n\"\n",
    "    tree = etree.ElementTree(etree.fromstring(xml))\n",
    "    depth(tree.getroot(), -1)\n",
    "    print(maxdepth)"
   ]
  },
  {
   "cell_type": "markdown",
   "id": "5771a96f",
   "metadata": {},
   "source": [
    "### Closure and Decorators"
   ]
  },
  {
   "cell_type": "markdown",
   "id": "2a1e75fe",
   "metadata": {},
   "source": [
    "#### Standardize Mobile Number Using Decorators"
   ]
  },
  {
   "cell_type": "code",
   "execution_count": null,
   "id": "43d6fc1c",
   "metadata": {},
   "outputs": [],
   "source": [
    "def wrapper(f):\n",
    "    def fun(l):\n",
    "        # complete the function\n",
    "        formatted_numbers = []\n",
    "        for number in l:\n",
    "            if len(number) == 10:\n",
    "                new_number = \"+91 \" + number[0:5] + \" \" + number[5:10]\n",
    "                formatted_numbers.append(new_number)\n",
    "                \n",
    "            elif len(number) == 11:\n",
    "                new_number = \"+91 \" + number[1:6] + \" \" + number[6:11]\n",
    "                \n",
    "                formatted_numbers.append(new_number)\n",
    "                \n",
    "            elif len(number) == 12:\n",
    "                new_number = \"+91 \" + number[2:7] + \" \" + number[7:12]\n",
    "                formatted_numbers.append(new_number)\n",
    "            \n",
    "            else:\n",
    "                new_number = number[0:3] + \" \" + number[3:8] + \" \" + number[8:13]\n",
    "                formatted_numbers.append(new_number)\n",
    "                \n",
    "        formatted_numbers.sort()        \n",
    "        print(*formatted_numbers, sep='\\n')\n",
    "        \n",
    "    return fun\n",
    "            \n",
    "   \n",
    "\n",
    "@wrapper\n",
    "def sort_phone(l):\n",
    "    print(*sorted(l), sep='\\n')\n",
    "\n",
    "if __name__ == '__main__':\n",
    "    l = [input() for _ in range(int(input()))]\n",
    "    sort_phone(l) \n"
   ]
  },
  {
   "cell_type": "markdown",
   "id": "0e7dd938",
   "metadata": {},
   "source": [
    "#### Decorators 2 - Name Directory"
   ]
  },
  {
   "cell_type": "code",
   "execution_count": null,
   "id": "0f3507eb",
   "metadata": {},
   "outputs": [],
   "source": [
    "import operator\n",
    "\n",
    "def person_lister(f):\n",
    "    def inner(people):\n",
    "        sorted_people = sorted(people, key=lambda person: int(person[2]))\n",
    "        \n",
    "        for person in sorted_people:\n",
    "            return(name_format(person))\n",
    "        \n",
    "    return inner\n",
    "\n",
    "@person_lister\n",
    "def name_format(person):\n",
    "    return (\"Mr. \" if person[3] == \"M\" else \"Ms. \") + person[0] + \" \" + person[1]\n",
    "\n",
    "if __name__ == '__main__':\n",
    "    people = [input().split() for i in range(int(input()))]\n",
    "    print(*name_format(people), sep='\\n')"
   ]
  },
  {
   "cell_type": "markdown",
   "id": "b3798efe",
   "metadata": {},
   "source": [
    "### 12 - Numpy"
   ]
  },
  {
   "cell_type": "markdown",
   "id": "3fdf4a47",
   "metadata": {},
   "source": [
    "#### Arrays"
   ]
  },
  {
   "cell_type": "code",
   "execution_count": null,
   "id": "215b763b",
   "metadata": {},
   "outputs": [],
   "source": [
    "import numpy\n",
    "\n",
    "def arrays(arr):\n",
    "    # complete this function\n",
    "    # use numpy.array\n",
    "    arr.reverse()\n",
    "    array = numpy.array(arr, float)\n",
    "    return array\n",
    "    \n",
    "    \n",
    "\n",
    "arr = input().strip().split(' ')\n",
    "result = arrays(arr)\n",
    "print(result)"
   ]
  },
  {
   "cell_type": "markdown",
   "id": "658a34bc",
   "metadata": {},
   "source": [
    "#### Shape and Reshape"
   ]
  },
  {
   "cell_type": "code",
   "execution_count": null,
   "id": "3a955e94",
   "metadata": {},
   "outputs": [],
   "source": [
    "import numpy\n",
    "\n",
    "number_list = input().split()\n",
    "array = numpy.array(number_list, int)\n",
    "print(numpy.reshape(array, (3, 3)))"
   ]
  },
  {
   "cell_type": "markdown",
   "id": "cb9f7bc0",
   "metadata": {},
   "source": [
    "#### Transpose and Flatten"
   ]
  },
  {
   "cell_type": "code",
   "execution_count": null,
   "id": "a35f4651",
   "metadata": {},
   "outputs": [],
   "source": [
    "import numpy\n",
    "\n",
    "dimension = input().split()\n",
    "N = int(dimension[0])\n",
    "M = int(dimension[1])\n",
    "\n",
    "rows_list = list()\n",
    "\n",
    "for _ in range(N):\n",
    "    row = list(map(int, input().split()))\n",
    "    rows_list.append(row)\n",
    "\n",
    "array = numpy.array(rows_list)\n",
    "transposed = numpy.transpose(array)\n",
    "\n",
    "print(transposed)\n",
    "print(array.flatten())"
   ]
  },
  {
   "cell_type": "markdown",
   "id": "31222739",
   "metadata": {},
   "source": [
    "#### Concatenate"
   ]
  },
  {
   "cell_type": "code",
   "execution_count": null,
   "id": "1b116ac6",
   "metadata": {},
   "outputs": [],
   "source": [
    "import numpy\n",
    "\n",
    "dimension = input().split()\n",
    "N = int(dimension[0])\n",
    "M = int(dimension[1])\n",
    "P = int(dimension[2])\n",
    "\n",
    "list1 = list()\n",
    "list2 = list()\n",
    "\n",
    "for _ in range(N):\n",
    "    row = list(map(int, input().split()))\n",
    "    list1.append(row)\n",
    "    \n",
    "for _ in range(M):\n",
    "    row = list(map(int, input().split()))\n",
    "    list2.append(row)\n",
    "    \n",
    "arr1 = numpy.array(list1)\n",
    "arr2 = numpy.array(list2)\n",
    "\n",
    "array = numpy.concatenate((arr1, arr2), 0)\n",
    "print(array)"
   ]
  },
  {
   "cell_type": "markdown",
   "id": "55d06afd",
   "metadata": {},
   "source": [
    "#### Zeros and Ones"
   ]
  },
  {
   "cell_type": "code",
   "execution_count": null,
   "id": "51a0ac7c",
   "metadata": {},
   "outputs": [],
   "source": [
    "import numpy\n",
    "\n",
    "dimension = tuple(map(int, input().split()))\n",
    "\n",
    "zero_array = numpy.zeros(dimension, dtype = int)\n",
    "one_array = numpy.ones(dimension, dtype = int)\n",
    "\n",
    "print(zero_array)\n",
    "print(one_array)"
   ]
  },
  {
   "cell_type": "markdown",
   "id": "28ead96e",
   "metadata": {},
   "source": [
    "#### Eye and Identity"
   ]
  },
  {
   "cell_type": "code",
   "execution_count": null,
   "id": "c5e4dc31",
   "metadata": {},
   "outputs": [],
   "source": [
    "import numpy\n",
    "numpy.set_printoptions(legacy='1.13')\n",
    "\n",
    "dimension = input().split()\n",
    "N = int(dimension[0])\n",
    "M = int(dimension[1])\n",
    "\n",
    "print(numpy.eye(N, M))"
   ]
  },
  {
   "cell_type": "markdown",
   "id": "0d5c0800",
   "metadata": {},
   "source": [
    "#### Array Mathematics"
   ]
  },
  {
   "cell_type": "code",
   "execution_count": null,
   "id": "4ccb30be",
   "metadata": {},
   "outputs": [],
   "source": [
    "import numpy\n",
    "\n",
    "dimension = input().split()\n",
    "N = int(dimension[0])\n",
    "M = int(dimension[1])\n",
    "\n",
    "listA = list()\n",
    "listB = list()\n",
    "\n",
    "for _ in range(N):\n",
    "    row = list(map(int, input().split()))\n",
    "    listA.append(row)\n",
    "    \n",
    "for _ in range(N):\n",
    "    row = list(map(int, input().split()))\n",
    "    listB.append(row)\n",
    "    \n",
    "arrayA = numpy.array(listA)\n",
    "arrayB = numpy.array(listB)\n",
    "\n",
    "print(arrayA + arrayB)\n",
    "print(arrayA - arrayB)\n",
    "print(arrayA * arrayB)\n",
    "print(arrayA // arrayB)\n",
    "print(arrayA % arrayB)\n",
    "print(arrayA ** arrayB)"
   ]
  },
  {
   "cell_type": "markdown",
   "id": "cac1290e",
   "metadata": {},
   "source": [
    "#### Floor, Ceil and Rint"
   ]
  },
  {
   "cell_type": "code",
   "execution_count": null,
   "id": "073bfbf1",
   "metadata": {},
   "outputs": [],
   "source": [
    "import numpy\n",
    "\n",
    "numpy.set_printoptions(legacy=\"1.13\")\n",
    "\n",
    "numbers_list = list(map(float, input().split()))\n",
    "array = numpy.array(numbers_list)\n",
    "\n",
    "print(numpy.floor(array))\n",
    "print(numpy.ceil(array))\n",
    "print(numpy.rint(array))"
   ]
  },
  {
   "cell_type": "markdown",
   "id": "52a797e3",
   "metadata": {},
   "source": [
    "#### Sum and Prod"
   ]
  },
  {
   "cell_type": "code",
   "execution_count": null,
   "id": "ca9f27eb",
   "metadata": {},
   "outputs": [],
   "source": [
    "import numpy\n",
    "\n",
    "dimension = input().split()\n",
    "N = int(dimension[0])\n",
    "M = int(dimension[1])\n",
    "\n",
    "rows_list = list()\n",
    "\n",
    "for _ in range(N):\n",
    "    row = list(map(int, input().split()))\n",
    "    rows_list.append(row)\n",
    "\n",
    "array = numpy.array(rows_list)\n",
    "sum_array = numpy.sum(array, axis=0)\n",
    "\n",
    "print(numpy.prod(sum_array))"
   ]
  },
  {
   "cell_type": "markdown",
   "id": "f1f9d309",
   "metadata": {},
   "source": [
    "#### Min and Max"
   ]
  },
  {
   "cell_type": "code",
   "execution_count": null,
   "id": "5b74de2d",
   "metadata": {},
   "outputs": [],
   "source": [
    "import numpy\n",
    "\n",
    "dimension = input().split()\n",
    "N = int(dimension[0])\n",
    "M = int(dimension[1])\n",
    " \n",
    "rows_list = list()\n",
    " \n",
    "for _ in range(N):\n",
    "    row = list(map(int, input().split()))\n",
    "    rows_list.append(row)\n",
    "    \n",
    "array = numpy.array(rows_list)\n",
    "\n",
    "min_array = numpy.min(array, axis=1)\n",
    "print(numpy.max(min_array))\n",
    "\n"
   ]
  },
  {
   "cell_type": "markdown",
   "id": "6922e770",
   "metadata": {},
   "source": [
    "#### Mean, Var, and Std"
   ]
  },
  {
   "cell_type": "code",
   "execution_count": null,
   "id": "34155ce3",
   "metadata": {},
   "outputs": [],
   "source": [
    "import numpy\n",
    "dimension = input().split()\n",
    "N = int(dimension[0])\n",
    "M = int(dimension[1])\n",
    "\n",
    "rows_list = list()\n",
    "\n",
    "for _ in range(N):\n",
    "    row = list(map(int, input().split()))\n",
    "    rows_list.append(row)\n",
    "    \n",
    "array = numpy.array(rows_list)\n",
    "\n",
    "mean_array = numpy.mean(array, axis=1)\n",
    "print(mean_array)\n",
    "\n",
    "var_array = numpy.var(array, axis=0)\n",
    "print(var_array)\n",
    "\n",
    "std = round(numpy.std(array), 11)\n",
    "print(std)"
   ]
  },
  {
   "cell_type": "markdown",
   "id": "794d5f99",
   "metadata": {},
   "source": [
    "#### Dot and Cross"
   ]
  },
  {
   "cell_type": "code",
   "execution_count": null,
   "id": "e148aa92",
   "metadata": {},
   "outputs": [],
   "source": [
    "import numpy\n",
    "N = int(input())\n",
    "\n",
    "listA = list()\n",
    "listB = list()\n",
    "\n",
    "for _ in range(N):\n",
    "    row = list(map(int, input().split()))\n",
    "    listA.append(row)\n",
    "\n",
    "for _ in range(N):\n",
    "    row = list(map(int, input().split()))\n",
    "    listB.append(row)\n",
    "\n",
    "arrayA = numpy.array(listA)\n",
    "arrayB = numpy.array(listB)\n",
    "\n",
    "print(numpy.dot(arrayA, arrayB))\n"
   ]
  },
  {
   "cell_type": "markdown",
   "id": "20054ab1",
   "metadata": {},
   "source": [
    "#### Inner and Outer"
   ]
  },
  {
   "cell_type": "code",
   "execution_count": null,
   "id": "2dab904c",
   "metadata": {},
   "outputs": [],
   "source": [
    "import numpy\n",
    "\n",
    "listA = list(map(int, input().split()))\n",
    "arrayA = numpy.array(listA)\n",
    "\n",
    "listB = list(map(int, input().split()))\n",
    "arrayB = numpy.array(listB)\n",
    "\n",
    "print(numpy.inner(arrayA, arrayB))\n",
    "print(numpy.outer(arrayA, arrayB))\n"
   ]
  },
  {
   "cell_type": "markdown",
   "id": "e5f282bf",
   "metadata": {},
   "source": [
    "#### Polynomials"
   ]
  },
  {
   "cell_type": "code",
   "execution_count": null,
   "id": "efc826c3",
   "metadata": {},
   "outputs": [],
   "source": [
    "import numpy\n",
    "coefficients_list = list(map(float, input().split()))\n",
    "x = int(input())\n",
    "\n",
    "print(numpy.polyval(coefficients_list, x))"
   ]
  },
  {
   "cell_type": "markdown",
   "id": "80c65a5b",
   "metadata": {},
   "source": [
    "#### Linear Algebra"
   ]
  },
  {
   "cell_type": "code",
   "execution_count": null,
   "id": "ef245884",
   "metadata": {},
   "outputs": [],
   "source": [
    "import numpy\n",
    "\n",
    "N = int(input())\n",
    "\n",
    "rows_list = list()\n",
    "for _ in range(N):\n",
    "    row = list(map(float, input().split()))\n",
    "    rows_list.append(row)\n",
    "\n",
    "array = numpy.array(rows_list)\n",
    "det = numpy.linalg.det(array)\n",
    "print(round(det, 2))"
   ]
  },
  {
   "cell_type": "markdown",
   "id": "67fb5577",
   "metadata": {},
   "source": [
    "   ## Problem 2\n",
    "--------------------------------------------------------------------------------------------------------------------------------"
   ]
  },
  {
   "cell_type": "markdown",
   "id": "11a0bdd3",
   "metadata": {},
   "source": [
    "#### Birthday Cake Candles"
   ]
  },
  {
   "cell_type": "code",
   "execution_count": null,
   "id": "1777cab3",
   "metadata": {},
   "outputs": [],
   "source": [
    "import math\n",
    "import os\n",
    "import random\n",
    "import re\n",
    "import sys\n",
    "\n",
    "#\n",
    "# Complete the 'birthdayCakeCandles' function below.\n",
    "#\n",
    "# The function is expected to return an INTEGER.\n",
    "# The function accepts INTEGER_ARRAY candles as parameter.\n",
    "#\n",
    "\n",
    "def birthdayCakeCandles(candles):\n",
    "    # Write your code here\n",
    "    count = 0\n",
    "    tallest_candle = max(candles)\n",
    "    \n",
    "    for candle in candles:\n",
    "        if candle == tallest_candle:\n",
    "            count += 1\n",
    "            \n",
    "    return count\n",
    "\n",
    "if __name__ == '__main__':\n",
    "    fptr = open(os.environ['OUTPUT_PATH'], 'w')\n",
    "\n",
    "    candles_count = int(input().strip())\n",
    "\n",
    "    candles = list(map(int, input().rstrip().split()))\n",
    "\n",
    "    result = birthdayCakeCandles(candles)\n",
    "\n",
    "    fptr.write(str(result) + '\\n')\n",
    "\n",
    "    fptr.close()\n"
   ]
  },
  {
   "cell_type": "markdown",
   "id": "f8044e94",
   "metadata": {},
   "source": [
    "#### Number Line Jumps"
   ]
  },
  {
   "cell_type": "code",
   "execution_count": null,
   "id": "fb44394d",
   "metadata": {},
   "outputs": [],
   "source": [
    "import math\n",
    "import os\n",
    "import random\n",
    "import re\n",
    "import sys\n",
    "\n",
    "#\n",
    "# Complete the 'kangaroo' function below.\n",
    "#\n",
    "# The function is expected to return a STRING.\n",
    "# The function accepts following parameters:\n",
    "#  1. INTEGER x1\n",
    "#  2. INTEGER v1\n",
    "#  3. INTEGER x2\n",
    "#  4. INTEGER v2\n",
    "#\n",
    "\n",
    "def kangaroo(x1, v1, x2, v2):\n",
    "    \n",
    "    i = 0\n",
    "    while i < 10000:\n",
    "        if x1+v1 == x2+v2:\n",
    "            return \"YES\"\n",
    "        x1 += v1\n",
    "        x2 += v2\n",
    "        i+=1\n",
    "        \n",
    "    return \"NO\"\n",
    "    \n",
    "\n",
    "if __name__ == '__main__':\n",
    "    fptr = open(os.environ['OUTPUT_PATH'], 'w')\n",
    "\n",
    "    first_multiple_input = input().rstrip().split()\n",
    "\n",
    "    x1 = int(first_multiple_input[0])\n",
    "\n",
    "    v1 = int(first_multiple_input[1])\n",
    "\n",
    "    x2 = int(first_multiple_input[2])\n",
    "\n",
    "    v2 = int(first_multiple_input[3])\n",
    "\n",
    "    result = kangaroo(x1, v1, x2, v2)\n",
    "\n",
    "    fptr.write(result + '\\n')\n",
    "\n",
    "    fptr.close()"
   ]
  },
  {
   "cell_type": "markdown",
   "id": "4c3ed71e",
   "metadata": {},
   "source": [
    "#### Viral Advertising"
   ]
  },
  {
   "cell_type": "code",
   "execution_count": null,
   "id": "951a4319",
   "metadata": {},
   "outputs": [],
   "source": [
    "import math\n",
    "import os\n",
    "import random\n",
    "import re\n",
    "import sys\n",
    "\n",
    "#\n",
    "# Complete the 'viralAdvertising' function below.\n",
    "#\n",
    "# The function is expected to return an INTEGER.\n",
    "# The function accepts INTEGER n as parameter.\n",
    "#\n",
    "\n",
    "def viralAdvertising(n):\n",
    "    # Write your code here\n",
    "    shared = 5\n",
    "    likes = 0\n",
    "    for _ in range(1,n+1):\n",
    "        liked = shared // 2\n",
    "        shared = liked * 3\n",
    "        likes += liked\n",
    "        \n",
    "    return likes\n",
    "        \n",
    "        \n",
    "\n",
    "if __name__ == '__main__':\n",
    "    fptr = open(os.environ['OUTPUT_PATH'], 'w')\n",
    "\n",
    "    n = int(input().strip())\n",
    "\n",
    "    result = viralAdvertising(n)\n",
    "\n",
    "    fptr.write(str(result) + '\\n')\n",
    "\n",
    "    fptr.close()"
   ]
  },
  {
   "cell_type": "markdown",
   "id": "d484b061",
   "metadata": {},
   "source": [
    "#### Recursive Digit Sum"
   ]
  },
  {
   "cell_type": "code",
   "execution_count": null,
   "id": "7dc5f0c9",
   "metadata": {},
   "outputs": [],
   "source": [
    "import math\n",
    "import os\n",
    "import random\n",
    "import re\n",
    "import sys\n",
    "\n",
    "#\n",
    "# Complete the 'superDigit' function below.\n",
    "#\n",
    "# The function is expected to return an INTEGER.\n",
    "# The function accepts following parameters:\n",
    "#  1. STRING n\n",
    "#  2. INTEGER k\n",
    "#\n",
    "\n",
    "def superDigit(n, k):\n",
    "    \n",
    "    # I define an auxiliar function that is called by superDigit with the string n in input: this function calculates the sum of the digits of the string recursively, until the sum has 1 digit, then the result string is concatenate k times with itself and finally the superDigit is called again to calculate recursivly the sum of the k digits.\n",
    "    # In this way we compute recursively the sum only once, exploiting the fact that the string is composed of the input string concatenated k times.\n",
    "    \n",
    "    def sumDigit(n):\n",
    "\n",
    "        sum_digits = sum(list(map(int, n))) \n",
    "        sum_digits = str(sum_digits)\n",
    "                    \n",
    "        if len(sum_digits) == 1:\n",
    "            return sum_digits\n",
    "        else:\n",
    "            return sumDigit(sum_digits)\n",
    " \n",
    "    p = str(sumDigit(n)*k)\n",
    "    return sumDigit(p)\n",
    "\n",
    "if __name__ == '__main__':\n",
    "    fptr = open(os.environ['OUTPUT_PATH'], 'w')\n",
    "\n",
    "    first_multiple_input = input().rstrip().split()\n",
    "\n",
    "    n = first_multiple_input[0]\n",
    "\n",
    "    k = int(first_multiple_input[1])\n",
    "\n",
    "    result = superDigit(n, k)\n",
    "\n",
    "    fptr.write(str(result) + '\\n')\n",
    "\n",
    "    fptr.close()\n",
    "    \n"
   ]
  },
  {
   "cell_type": "markdown",
   "id": "da46779f",
   "metadata": {},
   "source": [
    "#### Insertion Sort - Part 1"
   ]
  },
  {
   "cell_type": "code",
   "execution_count": null,
   "id": "a6647b46",
   "metadata": {},
   "outputs": [],
   "source": [
    "import math\n",
    "import os\n",
    "import random\n",
    "import re\n",
    "import sys\n",
    "\n",
    "#\n",
    "# Complete the 'insertionSort1' function below.\n",
    "#\n",
    "# The function accepts following parameters:\n",
    "#  1. INTEGER n\n",
    "#  2. INTEGER_ARRAY arr\n",
    "#\n",
    "\n",
    "def insertionSort1(n, arr):\n",
    "    \n",
    "    val = arr[-1] # storing the last element of array\n",
    "    \n",
    "    i = n-1\n",
    "    while i > 0:\n",
    "        if arr[i-1] > val:\n",
    "            arr[i] = arr[i-1]\n",
    "            print(\" \".join(map(str,arr)))\n",
    "            i -= 1\n",
    "        else:\n",
    "            break\n",
    "            \n",
    "    arr[i] = val\n",
    "    print(\" \".join(map(str,arr)))\n",
    "    \n",
    "                                                                                                                                                                                                                                    \n",
    "if __name__ == '__main__':\n",
    "    n = int(input().strip())\n",
    "\n",
    "    arr = list(map(int, input().rstrip().split()))\n",
    "\n",
    "    insertionSort1(n, arr)\n"
   ]
  },
  {
   "cell_type": "markdown",
   "id": "5a5b2cd8",
   "metadata": {},
   "source": [
    "#### Insertion Sort - Part 2"
   ]
  },
  {
   "cell_type": "code",
   "execution_count": null,
   "id": "cdf53952",
   "metadata": {},
   "outputs": [],
   "source": [
    "import math\n",
    "import os\n",
    "import random\n",
    "import re\n",
    "import sys\n",
    "\n",
    "#\n",
    "# Complete the 'insertionSort2' function below.\n",
    "#\n",
    "# The function accepts following parameters:\n",
    "#  1. INTEGER n\n",
    "#  2. INTEGER_ARRAY arr\n",
    "#\n",
    "\n",
    "def insertionSort2(n, arr):\n",
    "    \n",
    "    for i in range(1,n): # element at position 0 is already sorted, so I start from 1\n",
    "      \n",
    "        # we repeat insertion sort pt.1 for each element of the array from left to right\n",
    "        val = arr[i] # store value at position i\n",
    "        \n",
    "        j = i\n",
    "        while j > 0:\n",
    "            if arr[j-1] > val:\n",
    "                arr[j] = arr[j-1]\n",
    "                j -= 1\n",
    "            else:\n",
    "                break\n",
    "             \n",
    "        arr[j] = val\n",
    "        print(\" \".join(map(str,arr)))"
   ]
  }
 ],
 "metadata": {
  "kernelspec": {
   "display_name": "Python 3 (ipykernel)",
   "language": "python",
   "name": "python3"
  },
  "language_info": {
   "codemirror_mode": {
    "name": "ipython",
    "version": 3
   },
   "file_extension": ".py",
   "mimetype": "text/x-python",
   "name": "python",
   "nbconvert_exporter": "python",
   "pygments_lexer": "ipython3",
   "version": "3.11.4"
  }
 },
 "nbformat": 4,
 "nbformat_minor": 5
}
